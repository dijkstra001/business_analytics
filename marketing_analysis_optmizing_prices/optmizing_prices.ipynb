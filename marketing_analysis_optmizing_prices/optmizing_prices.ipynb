{
 "cells": [
  {
   "cell_type": "markdown",
   "metadata": {},
   "source": [
    "<h1>Marketing Analysis</h1>\n",
    "<h3>Otimização de mix de preços de produtos</h3>\n",
    "<p>A empresa Lua Smart Tech monta e testa dois modelos de smartphones, Lua1 e Lua2. Para o próximo mês, a empresa quer decidir quantas unidades de cada modelo vai montar e depois testar.</p>\n",
    "<p>Nenhum smartphone está em estoque desde o mês anterior e, como esses modelos serão trocados depois deste mês, a empresa não quer manter nenhum estoque para o mês seguinte. Ela acredita que o máximo que pode vender neste mês são 600 unidades do modelo Lua1 e 1200 unidades do modelo Lua2. </p>\n",
    "<p>Cada modelo Lua1 é vendido por 300,00 e cada modelo Lua2 por 450,00. O custo dos componentes de um Lua1 é de 150,00 e para um Lua2 é 225,00. A mão de obra é necessária para a montagem e teste. Existem no máximo 10.000 horas de montagem e 3.000 horas de teste disponíveis. Cada hora de trabalho para montagem custa 11,00 e cada hora de trabalho para teste custa 15,00. Cada Lua1 requer cinco horas para montagem e uma hora para teste. Cada Lua2 requer seis horas para montagem e duas horas para teste.</p>\n",
    "<p>A Lua Smart Tech deseja saber quantas unidades de cada modelo deve produzir (montar e testar) para maximizar seu lucro líquido, mas não pode usar mais horas detrabalho do que as disponíveis e não deseja produzir mais do que pode vender.</p>"
   ]
  },
  {
   "cell_type": "code",
   "execution_count": 1,
   "metadata": {},
   "outputs": [],
   "source": [
    "!pip install -q pulp\n",
    "\n",
    "# Documentation: https://coin-or.github.io/pulp/\n",
    "from pulp import *\n"
   ]
  },
  {
   "cell_type": "markdown",
   "metadata": {},
   "source": [
    "<h1>Criando um modelo matemático para otimização</h1>\n",
    "<h3><strong style=\"color: blue\">Parâmetros</strong></h3>\n",
    "<ul>\n",
    "    <li>Ai = Nº máximo de smartphones modelo tipo i para vender esse mês, pertencente ao conjunto (lua1 e lua2).</li>\n",
    "    <li>Bi = Preço de venda de smartphones modelo tipo i, onde i pertence ao conjunto (Lua1, Lua2).</li>\n",
    "    <li>Ci = Preço de custo das peças componentes para smartphones modelo tipo i, onde i pertence ao conjunto (lua1 e lua2).</li>\n",
    "    <li>Di = Custo de mão de obra de montagem por hora de smartphones modelo tipo i, onde i pertence ao conjunto (lua1 e lua2).</li>\n",
    "    <li>Ei = Custo de mão de obra de teste por hora de smartphones modelo tipo i, onde i pertence ao conjunto (lua1 e lua2).</li>\n",
    "    <li>F = Número máximo de horas de trabalho de montagem.</li>\n",
    "    <li>G = Número máximo de horas de trabalho de teste.</li>\n",
    "   <li>Hf,i = Horas de montagem necessárias para construir cada modelo de smartphone tipo i, onde i pertence ao conjunto (lua1 e lua2).</li>\n",
    "    <li>Hg,i = Horas de teste necessárias para testar cada modelo de smartphone tipo i, onde i pertence ao conjunto (lua1 e lua2).</li>\n",
    "</ul>\n",
    "\n",
    "<h3><strong style=\"color: blue\">Variável de decisão</strong></h3>\n",
    "<ul>\n",
    "    <li>Xi = nº de smartphones do modelo tipo i a produzir em determinado mês, onde i pertence ao conjunto (lua1 e lua2).</li>\n",
    "</ul>\n",
    "\n",
    "<h3><strong style=\"color: blue\">Função objetivo</strong></h3>\n",
    "<ul>\n",
    "    <li>lucroTotal = (Xi * Bi) - (Xi * Hf,i * Di) - (Xi * hg,i * Ei) - (Xi * Ci)</li>\n",
    "</ul>\n",
    "\n",
    "<h3><strong style=\"color: blue\">Restrições</strong></h3>\n",
    "<ul>\n",
    "    <li>O nº de smartphones a serem produzidos não pode ser negativo.</li>\n",
    "    <li>O nº total de horas de montagem não pode ser maior do que o número total de horas de mão de obra de montagem disponíveis.</li>\n",
    "    <li>O nº total de horas de teste não pode ser maior do que o número total de horas de mão de obra de teste disponíveis.</li>\n",
    "    <li>O nº de smartphones a serem produzidos não pode ser maior que o nº máximo de smartphones a serem vendidos nesse mês.</li>\n",
    "</ul>"
   ]
  },
  {
   "cell_type": "code",
   "execution_count": null,
   "metadata": {},
   "outputs": [],
   "source": []
  }
 ],
 "metadata": {
  "kernelspec": {
   "display_name": "Python 3",
   "language": "python",
   "name": "python3"
  },
  "language_info": {
   "codemirror_mode": {
    "name": "ipython",
    "version": 3
   },
   "file_extension": ".py",
   "mimetype": "text/x-python",
   "name": "python",
   "nbconvert_exporter": "python",
   "pygments_lexer": "ipython3",
   "version": "3.8.5"
  }
 },
 "nbformat": 4,
 "nbformat_minor": 4
}
