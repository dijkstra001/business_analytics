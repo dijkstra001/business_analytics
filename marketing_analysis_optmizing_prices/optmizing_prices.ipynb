{
 "cells": [
  {
   "cell_type": "markdown",
   "metadata": {},
   "source": [
    "<h1>Marketing Analysis</h1>\n",
    "<h3>Otimização de mix de preços de produtos</h3>\n",
    "<p>A empresa Lua Smart Tech monta e testa dois modelos de smartphones, Lua1 e Lua2. Para o próximo mês, a empresa quer decidir quantas unidades de cada modelo vai montar e depois testar.</p>\n",
    "<p>Nenhum smartphone está em estoque desde o mês anterior e, como esses modelos serão trocados depois deste mês, a empresa não quer manter nenhum estoque para o mês seguinte. Ela acredita que o máximo que pode vender neste mês são 600 unidades do modelo Lua1 e 1200 unidades do modelo Lua2. </p>\n",
    "<p>Cada modelo Lua1 é vendido por 300,00 e cada modelo Lua2 por 450,00. O custo dos componentes de um Lua1 é de 150,00 e para um Lua2 é 225,00. A mão de obra é necessária para a montagem e teste. Existem no máximo 10.000 horas de montagem e 3.000 horas de teste disponíveis. Cada hora de trabalho para montagem custa 11,00 e cada hora de trabalho para teste custa 15,00. Cada Lua1 requer cinco horas para montagem e uma hora para teste. Cada Lua2 requer seis horas para montagem e duas horas para teste.</p>\n",
    "<p>A Lua Smart Tech deseja saber quantas unidades de cada modelo deve produzir (montar e testar) para maximizar seu lucro líquido, mas não pode usar mais horas detrabalho do que as disponíveis e não deseja produzir mais do que pode vender.</p>"
   ]
  },
  {
   "cell_type": "code",
   "execution_count": 1,
   "metadata": {},
   "outputs": [],
   "source": [
    "!pip install -q pulp\n",
    "\n",
    "# Documentation: https://coin-or.github.io/pulp/\n",
    "from pulp import *"
   ]
  },
  {
   "cell_type": "markdown",
   "metadata": {},
   "source": [
    "<h1>Criando um modelo matemático para otimização</h1>\n",
    "<h3><strong style=\"color: blue\">Parâmetros</strong></h3>\n",
    "<ul>\n",
    "    <li>Ai = Nº máximo de smartphones modelo tipo i para vender esse mês, pertencente ao conjunto (lua1 e lua2).</li>\n",
    "    <li>Bi = Preço de venda de smartphones modelo tipo i, onde i pertence ao conjunto (Lua1, Lua2).</li>\n",
    "    <li>Ci = Preço de custo das peças componentes para smartphones modelo tipo i, onde i pertence ao conjunto (lua1 e lua2).</li>\n",
    "    <li>Di = Custo de mão de obra de montagem por hora de smartphones modelo tipo i, onde i pertence ao conjunto (lua1 e lua2).</li>\n",
    "    <li>Ei = Custo de mão de obra de teste por hora de smartphones modelo tipo i, onde i pertence ao conjunto (lua1 e lua2).</li>\n",
    "    <li>F = Número máximo de horas de trabalho de montagem.</li>\n",
    "    <li>G = Número máximo de horas de trabalho de teste.</li>\n",
    "   <li>Hf,i = Horas de montagem necessárias para construir cada modelo de smartphone tipo i, onde i pertence ao conjunto (lua1 e lua2).</li>\n",
    "    <li>Hg,i = Horas de teste necessárias para testar cada modelo de smartphone tipo i, onde i pertence ao conjunto (lua1 e lua2).</li>\n",
    "</ul>\n",
    "\n",
    "<h3><strong style=\"color: blue\">Variável de decisão</strong></h3>\n",
    "<ul>\n",
    "    <li>Xi = nº de smartphones do modelo tipo i a produzir em determinado mês, onde i pertence ao conjunto (lua1 e lua2).</li>\n",
    "</ul>\n",
    "\n",
    "<h3><strong style=\"color: blue\">Função objetivo</strong></h3>\n",
    "<ul>\n",
    "    <li>lucroTotal = (Xi * Bi) - (Xi * Hf,i * Di) - (Xi * hg,i * Ei) - (Xi * Ci)</li>\n",
    "</ul>\n",
    "\n",
    "<h3><strong style=\"color: blue\">Restrições</strong></h3>\n",
    "<ul>\n",
    "    <li>O nº de smartphones a serem produzidos não pode ser negativo.</li>\n",
    "    <li>O nº total de horas de montagem não pode ser maior do que o número total de horas de mão de obra de montagem disponíveis.</li>\n",
    "    <li>O nº total de horas de teste não pode ser maior do que o número total de horas de mão de obra de teste disponíveis.</li>\n",
    "    <li>O nº de smartphones a serem produzidos não pode ser maior que o nº máximo de smartphones a serem vendidos nesse mês.</li>\n",
    "</ul>"
   ]
  },
  {
   "cell_type": "markdown",
   "metadata": {},
   "source": [
    "<h1>Implementando o Modelo Matemático</h1>"
   ]
  },
  {
   "cell_type": "code",
   "execution_count": 2,
   "metadata": {},
   "outputs": [],
   "source": [
    "# Nº max. de smartphones para vender esse mês:\n",
    "A_lua1 = 600\n",
    "A_lua2 = 1200\n",
    "\n",
    "# Preço de venda dos smartphones:\n",
    "B_lua1 = 300\n",
    "B_lua2 = 450\n",
    "\n",
    "# Custo dos componentes dos smartphones:\n",
    "C_lua1 = 150\n",
    "C_lua2 = 225\n",
    "\n",
    "# Custo de mão de obra de montagem por hora dos smartphones:\n",
    "D_lua1 = 11\n",
    "D_lua2 = 11\n",
    "\n",
    "# Custo de mão de obra de teste por hora dos smartphones: \n",
    "E_lua1 = 15\n",
    "E_lua2 = 15\n",
    "\n",
    "# Nº máx. de horas de trabalho de montagem:\n",
    "F = 10000\n",
    "\n",
    "# Nº máx. de horas de trabalho de teste:\n",
    "G = 3000\n",
    "\n",
    "# Horas de montagem para construir um smartphone:\n",
    "Hf_lua1 = 5\n",
    "Hf_lua2 = 6\n",
    "\n",
    "# Horas de montagem para construir um smartphone:\n",
    "Hg_lua1 = 1\n",
    "Hg_lua2 = 2"
   ]
  },
  {
   "cell_type": "markdown",
   "metadata": {},
   "source": [
    "<h1>Variável para o problema de otimização</h1>"
   ]
  },
  {
   "cell_type": "code",
   "execution_count": 3,
   "metadata": {},
   "outputs": [],
   "source": [
    "problema = LpProblem(\"MixProdutos\", LpMaximize)"
   ]
  },
  {
   "cell_type": "markdown",
   "metadata": {},
   "source": [
    "<h1>Definindo a variável de decisão de cada modelo de smartphone"
   ]
  },
  {
   "cell_type": "code",
   "execution_count": 4,
   "metadata": {},
   "outputs": [
    {
     "name": "stdout",
     "output_type": "stream",
     "text": [
      "Unidades_Lua1, Unidades_Lua2\n"
     ]
    }
   ],
   "source": [
    "x_lua1 = LpVariable(\"Unidades Lua1\", 0, None, LpInteger)\n",
    "x_lua2 = LpVariable(\"Unidades Lua2\", 0, None, LpInteger)\n",
    "print(f'{x_lua1}, {x_lua2}')"
   ]
  },
  {
   "cell_type": "markdown",
   "metadata": {},
   "source": [
    "<h1>Implementando a função objetivo</h1>"
   ]
  },
  {
   "cell_type": "code",
   "execution_count": 5,
   "metadata": {},
   "outputs": [
    {
     "data": {
      "text/plain": [
       "MixProdutos:\n",
       "MAXIMIZE\n",
       "80*Unidades_Lua1 + 129*Unidades_Lua2 + 0\n",
       "VARIABLES\n",
       "0 <= Unidades_Lua1 Integer\n",
       "0 <= Unidades_Lua2 Integer"
      ]
     },
     "execution_count": 5,
     "metadata": {},
     "output_type": "execute_result"
    }
   ],
   "source": [
    "faturamento = (x_lua1 * B_lua1) + (x_lua2 * B_lua2)\n",
    "\n",
    "custo_montagem = (x_lua1 * Hf_lua1 * D_lua1) + (x_lua2 * Hf_lua2 * D_lua2)\n",
    "\n",
    "custo_teste = (x_lua1 * Hg_lua1 * E_lua1) + (x_lua2 * Hg_lua2 *E_lua2)\n",
    "\n",
    "custo_componentes = (x_lua1 * C_lua1) + (x_lua2 * C_lua2)\n",
    "\n",
    "problema += faturamento - custo_componentes - custo_montagem - custo_teste\n",
    "problema"
   ]
  },
  {
   "cell_type": "markdown",
   "metadata": {},
   "source": [
    "<h1>Restrições</h1>"
   ]
  },
  {
   "cell_type": "code",
   "execution_count": 6,
   "metadata": {},
   "outputs": [
    {
     "data": {
      "text/plain": [
       "MixProdutos:\n",
       "MAXIMIZE\n",
       "80*Unidades_Lua1 + 129*Unidades_Lua2 + 0\n",
       "SUBJECT TO\n",
       "MaxHorasMontagem: 5 Unidades_Lua1 + 6 Unidades_Lua2 <= 10000\n",
       "\n",
       "MaxHorasTeste: Unidades_Lua1 + 2 Unidades_Lua2 <= 3000\n",
       "\n",
       "ProdModeloLua1: Unidades_Lua1 <= 600\n",
       "\n",
       "ProdModeloLua2: Unidades_Lua2 <= 1200\n",
       "\n",
       "VARIABLES\n",
       "0 <= Unidades_Lua1 Integer\n",
       "0 <= Unidades_Lua2 Integer"
      ]
     },
     "execution_count": 6,
     "metadata": {},
     "output_type": "execute_result"
    }
   ],
   "source": [
    "# Nº máx. de horas de montagens:\n",
    "problema += (x_lua1 * Hf_lua1) + (x_lua2 * Hf_lua2) <= F, \"MaxHorasMontagem\"\n",
    "\n",
    "# Nº máx. de horas de testes:\n",
    "problema += (x_lua1 * Hg_lua1) + (x_lua2 * Hg_lua2) <= G, \"MaxHorasTeste\"\n",
    "\n",
    "# Nº máx. de smartphones modelo lua1:\n",
    "problema += x_lua1 <= A_lua1, \"ProdModeloLua1\"\n",
    "\n",
    "# Nº máx. de smartphones modelo lua2:\n",
    "problema += x_lua2 <= A_lua2, \"ProdModeloLua2\"\n",
    "problema"
   ]
  },
  {
   "cell_type": "markdown",
   "metadata": {},
   "source": [
    "<h1>Resolvendo o problema de otimização</h1>"
   ]
  },
  {
   "cell_type": "code",
   "execution_count": 7,
   "metadata": {},
   "outputs": [
    {
     "name": "stdout",
     "output_type": "stream",
     "text": [
      "Lucro maximizado: R$ 199600.0\n",
      "Nº de unidades do modelo Lua1 a produzir: 560.0\n",
      "Nº de unidades do modelo Lua2 a produzir: 1200.0\n"
     ]
    }
   ],
   "source": [
    "problema.solve()\n",
    "print(f'Lucro maximizado: R$ {value(problema.objective)}\\n\\\n",
    "Nº de unidades do modelo Lua1 a produzir: {problema.variables()[0].varValue}\\n\\\n",
    "Nº de unidades do modelo Lua2 a produzir: {problema.variables()[1].varValue}')"
   ]
  },
  {
   "cell_type": "markdown",
   "metadata": {},
   "source": [
    "<p>A empresa Smart Tech precisa produzir 560 produtos do modelo Lua1 e 1200 do modelo Lua2 para atingir um lucro otimizado de 199.600,00.<p>"
   ]
  },
  {
   "cell_type": "code",
   "execution_count": null,
   "metadata": {},
   "outputs": [],
   "source": []
  }
 ],
 "metadata": {
  "kernelspec": {
   "display_name": "Python 3",
   "language": "python",
   "name": "python3"
  },
  "language_info": {
   "codemirror_mode": {
    "name": "ipython",
    "version": 3
   },
   "file_extension": ".py",
   "mimetype": "text/x-python",
   "name": "python",
   "nbconvert_exporter": "python",
   "pygments_lexer": "ipython3",
   "version": "3.8.5"
  }
 },
 "nbformat": 4,
 "nbformat_minor": 4
}
